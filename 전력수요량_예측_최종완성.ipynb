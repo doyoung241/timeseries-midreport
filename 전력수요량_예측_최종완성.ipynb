{
 "cells": [
  {
   "cell_type": "markdown",
   "id": "42e1a7b6",
   "metadata": {},
   "source": [
    "# 전력 수요량 예측 프로젝트 (2025 봄학기 시계열데이터분석 중간보고서)\n",
    "\n",
    "**✅ 조원 이름: (여기에 조원 이름 작성)**"
   ]
  },
  {
   "cell_type": "markdown",
   "id": "c2f8f93a",
   "metadata": {},
   "source": [
    "## 1. 시계열 데이터에 대한 설명\n",
    "\n",
    "본 프로젝트는 한국전력거래소의 '시간별 전국 전력수요량' 데이터를 활용하였다. 날짜별로 1시부터 24시까지 시간별 전력 사용량(MW)을 기록하고 있으며, 이를 long 포맷으로 변환하고 datetime 인덱스를 추가하였다.\n",
    "\n",
    "또한, 다변량 시계열 구성을 위해 시간(hour), 요일(dayofweek), 월(month) 정보를 추가로 생성하였다."
   ]
  },
  {
   "cell_type": "markdown",
   "id": "894c208b",
   "metadata": {},
   "source": [
    "## 2. 데이터 탐색 및 분석 포인트\n",
    "\n",
    "시간대별, 요일별, 월별로 전력 사용량의 변화를 분석하였다.\n",
    "\n",
    "- 시간대별: 출근 시간, 퇴근 시간대 전력 수요 증가\n",
    "- 요일별: 주말보다 평일에 전력 수요량이 높음\n",
    "- 월별: 겨울철 전력 수요 증가\n",
    "\n",
    "탐색 과정에서는 pandas와 matplotlib을 활용하여 시각화를 수행하였다."
   ]
  },
  {
   "cell_type": "code",
   "execution_count": null,
   "id": "d057f2c7",
   "metadata": {},
   "outputs": [],
   "source": [
    "import pandas as pd\n",
    "import matplotlib.pyplot as plt\n",
    "import matplotlib.font_manager as fm\n",
    "\n",
    "# 한글 폰트 설정\n",
    "plt.rcParams['font.family'] = 'Malgun Gothic'\n",
    "plt.rcParams['axes.unicode_minus'] = False\n",
    "\n",
    "# 데이터 불러오기\n",
    "file_path = \"한국전력거래소_시간별 전국 전력수요량_20241231.csv\"\n",
    "df = pd.read_csv(file_path, encoding=\"cp949\")\n",
    "\n",
    "# wide -> long 변환\n",
    "df_long = df.melt(id_vars=[\"날짜\"], var_name=\"시간\", value_name=\"전력수요(MW)\")\n",
    "df_long.loc[df_long[\"시간\"] == \"24시\", \"시간\"] = \"00시\"\n",
    "df_long.loc[df_long[\"시간\"] == \"00시\", \"날짜\"] = pd.to_datetime(df_long.loc[df_long[\"시간\"] == \"00시\", \"날짜\"]) + pd.Timedelta(days=1)\n",
    "df_long[\"날짜\"] = pd.to_datetime(df_long[\"날짜\"])\n",
    "df_long[\"datetime\"] = pd.to_datetime(df_long[\"날짜\"].dt.strftime('%Y-%m-%d') + \" \" + df_long[\"시간\"], format=\"%Y-%m-%d %H시\")\n",
    "df_long = df_long.sort_values(\"datetime\").set_index(\"datetime\")[[\"전력수요(MW)\"]]\n",
    "\n",
    "# 다변량 특성 추가\n",
    "df_long[\"시간\"] = df_long.index.hour\n",
    "df_long[\"요일\"] = df_long.index.dayofweek\n",
    "df_long[\"월\"] = df_long.index.month\n",
    "\n",
    "df_long.head()"
   ]
  },
  {
   "cell_type": "code",
   "execution_count": null,
   "id": "29e2b386",
   "metadata": {},
   "outputs": [],
   "source": [
    "# 시간대별, 요일별, 월별 평균 전력수요 시각화\n",
    "fig, axs = plt.subplots(1, 3, figsize=(18, 5))\n",
    "\n",
    "hourly_avg = df_long.groupby(\"시간\")[\"전력수요(MW)\"].mean()\n",
    "weekday_avg = df_long.groupby(\"요일\")[\"전력수요(MW)\"].mean()\n",
    "monthly_avg = df_long.groupby(\"월\")[\"전력수요(MW)\"].mean()\n",
    "\n",
    "axs[0].plot(hourly_avg.index, hourly_avg.values, marker='o')\n",
    "axs[0].set_title(\"시간대별 평균 전력수요\")\n",
    "axs[0].set_xlabel(\"시간\")\n",
    "axs[0].grid(True)\n",
    "\n",
    "axs[1].plot(weekday_avg.index, weekday_avg.values, marker='o', color='orange')\n",
    "axs[1].set_title(\"요일별 평균 전력수요\")\n",
    "axs[1].set_xlabel(\"요일 (0=월요일)\")\n",
    "axs[1].grid(True)\n",
    "\n",
    "axs[2].plot(monthly_avg.index, monthly_avg.values, marker='o', color='green')\n",
    "axs[2].set_title(\"월별 평균 전력수요\")\n",
    "axs[2].set_xlabel(\"월\")\n",
    "axs[2].grid(True)\n",
    "\n",
    "plt.tight_layout()\n",
    "plt.show()"
   ]
  },
  {
   "cell_type": "markdown",
   "id": "07f7d714",
   "metadata": {},
   "source": [
    "## 3. 시계열 모델 적용\n",
    "\n",
    "Darts 라이브러리와 sklearn을 활용하여 다변량 시계열 예측을 수행하였다.\n",
    "\n",
    "- Darts: RegressionModel 사용 (입력변수: 시간, 요일, 월)\n",
    "- Sklearn: RandomForestRegressor 사용"
   ]
  },
  {
   "cell_type": "code",
   "execution_count": null,
   "id": "471febff",
   "metadata": {},
   "outputs": [],
   "source": [
    "from darts import TimeSeries\n",
    "from darts.models import RegressionModel\n",
    "from darts.utils.timeseries_generation import datetime_attribute_timeseries\n",
    "from sklearn.ensemble import RandomForestRegressor\n",
    "\n",
    "# 타겟 시계열\n",
    "target_series = TimeSeries.from_series(df_long[\"전력수요(MW)\"])\n",
    "\n",
    "# 다변량 외부 변수 (수정: .values()로 추출 후 직접 DataFrame 만들기)\n",
    "datetime_idx = target_series.time_index\n",
    "hour_series = datetime_attribute_timeseries(target_series, attribute=\"hour\").values().flatten()\n",
    "dow_series = datetime_attribute_timeseries(target_series, attribute=\"day_of_week\").values().flatten()\n",
    "month_series = datetime_attribute_timeseries(target_series, attribute=\"month\").values().flatten()\n",
    "\n",
    "covariates = pd.DataFrame({\n",
    "    \"hour\": hour_series,\n",
    "    \"day_of_week\": dow_series,\n",
    "    \"month\": month_series\n",
    "}, index=datetime_idx)\n",
    "\n",
    "covariates_series = TimeSeries.from_dataframe(covariates)\n",
    "\n",
    "# 모델 정의 및 학습\n",
    "model = RegressionModel(lag_target=[-1, -2, -3, -24], lags_covariates=[0], model=RandomForestRegressor())\n",
    "model.fit(series=target_series, past_covariates=covariates_series)\n",
    "\n",
    "# 48시간 예측\n",
    "forecast = model.predict(n=48)\n",
    "\n",
    "# 결과 시각화\n",
    "target_series.plot(label=\"실제값\")\n",
    "forecast.plot(label=\"예측값\")\n",
    "plt.title(\"48시간 전력수요 예측 (Darts + RandomForest)\")\n",
    "plt.legend()\n",
    "plt.grid(True)\n",
    "plt.show()"
   ]
  },
  {
   "cell_type": "markdown",
   "id": "0f794432",
   "metadata": {},
   "source": [
    "## 4. 의미 해석 및 가치 도출\n",
    "\n",
    "전력 수요는 시간대, 요일, 월별로 뚜렷한 주기성을 보이며, 다변량 시계열 분석을 통해 단기 예측 정확도를 향상시킬 수 있었다.\n",
    "\n",
    "RandomForest 기반 RegressionModel을 통해 실질적인 수요 예측 가능성을 확인하였다.\n",
    "\n",
    "향후 기온, 공휴일 등 추가적인 외부변수를 결합하여 예측 성능을 더욱 향상시킬 수 있을 것이다."
   ]
  }
 ],
 "metadata": {},
 "nbformat": 4,
 "nbformat_minor": 5
}
