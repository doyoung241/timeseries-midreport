{
 "cells": [
  {
   "cell_type": "markdown",
   "id": "c5a79e1e",
   "metadata": {},
   "source": [
    "# 전력 수요량 예측 프로젝트 (2025 봄학기 시계열데이터분석 중간보고서)\n",
    "\n",
    "**✅ 조원 이름: (여기에 조원 이름 작성)**"
   ]
  },
  {
   "cell_type": "markdown",
   "id": "1ee5ec7c",
   "metadata": {},
   "source": [
    "## 1. 시계열 데이터에 대한 설명\n",
    "\n",
    "한국전력거래소의 '시간별 전국 전력수요량' 데이터를 사용하였다. 데이터를 wide 포맷에서 long 포맷으로 변환한 후 datetime 인덱스를 추가하여 시계열 데이터로 구성하였다."
   ]
  },
  {
   "cell_type": "markdown",
   "id": "de911980",
   "metadata": {},
   "source": [
    "## 2. 데이터 탐색 및 분석 포인트\n",
    "\n",
    "시간대별, 요일별, 월별 전력 사용 패턴을 분석하고, 시계열 분해(Trend, Seasonality, Residuals)를 수행하였다."
   ]
  },
  {
   "cell_type": "code",
   "execution_count": null,
   "id": "1335b4fa",
   "metadata": {},
   "outputs": [],
   "source": [
    "import pandas as pd\n",
    "import matplotlib.pyplot as plt\n",
    "\n",
    "# 한글 폰트 설정\n",
    "plt.rcParams['font.family'] = 'Malgun Gothic'\n",
    "plt.rcParams['axes.unicode_minus'] = False\n",
    "\n",
    "# 데이터 불러오기\n",
    "file_path = \"한국전력거래소_시간별 전국 전력수요량_20241231.csv\"\n",
    "df = pd.read_csv(file_path, encoding=\"cp949\")\n",
    "\n",
    "# wide -> long 변환\n",
    "df_long = df.melt(id_vars=[\"날짜\"], var_name=\"시간\", value_name=\"전력수요(MW)\")\n",
    "df_long.loc[df_long[\"시간\"] == \"24시\", \"시간\"] = \"00시\"\n",
    "df_long.loc[df_long[\"시간\"] == \"00시\", \"날짜\"] = pd.to_datetime(df_long.loc[df_long[\"시간\"] == \"00시\", \"날짜\"]) + pd.Timedelta(days=1)\n",
    "df_long[\"날짜\"] = pd.to_datetime(df_long[\"날짜\"])\n",
    "df_long[\"datetime\"] = pd.to_datetime(df_long[\"날짜\"].dt.strftime('%Y-%m-%d') + \" \" + df_long[\"시간\"], format=\"%Y-%m-%d %H시\")\n",
    "df_long = df_long.sort_values(\"datetime\").set_index(\"datetime\")[[\"전력수요(MW)\"]]\n"
   ]
  },
  {
   "cell_type": "code",
   "execution_count": null,
   "id": "bfc9e0ff",
   "metadata": {},
   "outputs": [],
   "source": [
    "# 시간대, 요일, 월 파생변수 생성\n",
    "df_long[\"시간\"] = df_long.index.hour\n",
    "df_long[\"요일\"] = df_long.index.dayofweek\n",
    "df_long[\"월\"] = df_long.index.month\n",
    "\n",
    "# 평균 계산\n",
    "hourly_avg = df_long.groupby(\"시간\")[\"전력수요(MW)\"].mean()\n",
    "weekday_avg = df_long.groupby(\"요일\")[\"전력수요(MW)\"].mean()\n",
    "monthly_avg = df_long.groupby(\"월\")[\"전력수요(MW)\"].mean()\n",
    "\n",
    "# 시각화\n",
    "fig, axs = plt.subplots(1, 3, figsize=(18, 5))\n",
    "\n",
    "axs[0].plot(hourly_avg.index, hourly_avg.values, marker='o')\n",
    "axs[0].set_title(\"시간대별 평균 전력수요\")\n",
    "axs[0].grid(True)\n",
    "\n",
    "axs[1].plot(weekday_avg.index, weekday_avg.values, marker='o', color='orange')\n",
    "axs[1].set_title(\"요일별 평균 전력수요\")\n",
    "axs[1].grid(True)\n",
    "\n",
    "axs[2].plot(monthly_avg.index, monthly_avg.values, marker='o', color='green')\n",
    "axs[2].set_title(\"월별 평균 전력수요\")\n",
    "axs[2].grid(True)\n",
    "\n",
    "plt.tight_layout()\n",
    "plt.show()\n"
   ]
  },
  {
   "cell_type": "markdown",
   "id": "7a2ed832",
   "metadata": {},
   "source": [
    "## 3. 시계열 데이터 분해 (Trend / Seasonality / Residuals)"
   ]
  },
  {
   "cell_type": "code",
   "execution_count": null,
   "id": "b7bd4ec1",
   "metadata": {},
   "outputs": [],
   "source": [
    "from statsmodels.tsa.seasonal import seasonal_decompose\n",
    "\n",
    "# 하루(24시간) 주기로 시계열 분해\n",
    "result = seasonal_decompose(df_long[\"전력수요(MW)\"], model='additive', period=24)\n",
    "result.plot()\n",
    "plt.show()\n"
   ]
  },
  {
   "cell_type": "markdown",
   "id": "52fd1979",
   "metadata": {},
   "source": [
    "## 4. 시계열 모델 적용\n",
    "\n",
    "Holt-Winters 가법모델을 사용하여 향후 48시간 전력 수요 예측을 수행하였다."
   ]
  },
  {
   "cell_type": "code",
   "execution_count": null,
   "id": "6172699e",
   "metadata": {},
   "outputs": [],
   "source": [
    "from statsmodels.tsa.holtwinters import ExponentialSmoothing\n",
    "\n",
    "series = df_long[\"전력수요(MW)\"]\n",
    "\n",
    "# 모델 학습\n",
    "model = ExponentialSmoothing(series, trend=\"add\", seasonal=\"add\", seasonal_periods=24)\n",
    "fit = model.fit()\n",
    "\n",
    "# 48시간 예측\n",
    "forecast = fit.forecast(48)\n",
    "\n",
    "# 결과 시각화\n",
    "plt.figure(figsize=(12,5))\n",
    "plt.plot(series[-168:], label=\"최근 7일 실제값\")\n",
    "plt.plot(forecast, label=\"48시간 예측\", linestyle=\"--\")\n",
    "plt.title(\"Holt-Winters 모델을 이용한 전력수요 예측\")\n",
    "plt.legend()\n",
    "plt.grid(True)\n",
    "plt.show()\n"
   ]
  },
  {
   "cell_type": "markdown",
   "id": "df3636fc",
   "metadata": {},
   "source": [
    "## 5. 의미 해석 및 가치 도출\n",
    "\n",
    "전력 수요량은 시간대, 요일, 월별로 뚜렷한 주기성을 보였으며, Holt-Winters 가법모델을 통해 단기 예측이 가능함을 확인하였다.\n",
    "\n",
    "향후 기온, 공휴일 등의 외생변수를 추가하면 예측 정확도를 더욱 향상시킬 수 있을 것으로 기대된다."
   ]
  }
 ],
 "metadata": {},
 "nbformat": 4,
 "nbformat_minor": 5
}
